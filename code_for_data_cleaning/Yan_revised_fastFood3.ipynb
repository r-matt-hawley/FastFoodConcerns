{
 "cells": [
  {
   "cell_type": "code",
   "execution_count": 26,
   "metadata": {},
   "outputs": [
    {
     "data": {
      "text/html": [
       "<div>\n",
       "<style scoped>\n",
       "    .dataframe tbody tr th:only-of-type {\n",
       "        vertical-align: middle;\n",
       "    }\n",
       "\n",
       "    .dataframe tbody tr th {\n",
       "        vertical-align: top;\n",
       "    }\n",
       "\n",
       "    .dataframe thead th {\n",
       "        text-align: right;\n",
       "    }\n",
       "</style>\n",
       "<table border=\"1\" class=\"dataframe\">\n",
       "  <thead>\n",
       "    <tr style=\"text-align: right;\">\n",
       "      <th></th>\n",
       "      <th>name</th>\n",
       "      <th>zip_code1</th>\n",
       "    </tr>\n",
       "  </thead>\n",
       "  <tbody>\n",
       "    <tr>\n",
       "      <th>0</th>\n",
       "      <td>McDonald's</td>\n",
       "      <td>13662</td>\n",
       "    </tr>\n",
       "    <tr>\n",
       "      <th>1</th>\n",
       "      <td>Wendy's</td>\n",
       "      <td>43160</td>\n",
       "    </tr>\n",
       "    <tr>\n",
       "      <th>2</th>\n",
       "      <td>Frisch's Big Boy</td>\n",
       "      <td>41056</td>\n",
       "    </tr>\n",
       "    <tr>\n",
       "      <th>3</th>\n",
       "      <td>McDonald's</td>\n",
       "      <td>13662</td>\n",
       "    </tr>\n",
       "    <tr>\n",
       "      <th>4</th>\n",
       "      <td>OMG! Rotisserie</td>\n",
       "      <td>45701</td>\n",
       "    </tr>\n",
       "  </tbody>\n",
       "</table>\n",
       "</div>"
      ],
      "text/plain": [
       "               name zip_code1\n",
       "0        McDonald's     13662\n",
       "1           Wendy's     43160\n",
       "2  Frisch's Big Boy     41056\n",
       "3        McDonald's     13662\n",
       "4   OMG! Rotisserie     45701"
      ]
     },
     "execution_count": 26,
     "metadata": {},
     "output_type": "execute_result"
    }
   ],
   "source": [
    "import pandas as pd\n",
    "import numpy as np\n",
    "\n",
    "fast_food = \"FastFoodRestaurants.csv\"\n",
    "\n",
    "fast_food_df = pd.read_csv(fast_food)\n",
    "\n",
    "# we only keep two coloums: \"name\" of the fastFoodRestaurant and \"postalCode\"\n",
    "fast_food_df = fast_food_df[[\"name\",\"postalCode\"]]\n",
    "\n",
    "# rename the column\n",
    "fast_food_df = fast_food_df.rename(columns = {\"postalCode\" : \"zip_code1\"})\n",
    "fast_food_df.head()"
   ]
  },
  {
   "cell_type": "code",
   "execution_count": 27,
   "metadata": {},
   "outputs": [
    {
     "data": {
      "text/html": [
       "<div>\n",
       "<style scoped>\n",
       "    .dataframe tbody tr th:only-of-type {\n",
       "        vertical-align: middle;\n",
       "    }\n",
       "\n",
       "    .dataframe tbody tr th {\n",
       "        vertical-align: top;\n",
       "    }\n",
       "\n",
       "    .dataframe thead th {\n",
       "        text-align: right;\n",
       "    }\n",
       "</style>\n",
       "<table border=\"1\" class=\"dataframe\">\n",
       "  <thead>\n",
       "    <tr style=\"text-align: right;\">\n",
       "      <th></th>\n",
       "      <th>name</th>\n",
       "      <th>zip_code1</th>\n",
       "      <th>zip_code_str</th>\n",
       "      <th>zip_code</th>\n",
       "    </tr>\n",
       "  </thead>\n",
       "  <tbody>\n",
       "    <tr>\n",
       "      <th>0</th>\n",
       "      <td>McDonald's</td>\n",
       "      <td>13662</td>\n",
       "      <td>13662</td>\n",
       "      <td>13662</td>\n",
       "    </tr>\n",
       "    <tr>\n",
       "      <th>1</th>\n",
       "      <td>Wendy's</td>\n",
       "      <td>43160</td>\n",
       "      <td>43160</td>\n",
       "      <td>43160</td>\n",
       "    </tr>\n",
       "    <tr>\n",
       "      <th>2</th>\n",
       "      <td>Frisch's Big Boy</td>\n",
       "      <td>41056</td>\n",
       "      <td>41056</td>\n",
       "      <td>41056</td>\n",
       "    </tr>\n",
       "    <tr>\n",
       "      <th>3</th>\n",
       "      <td>McDonald's</td>\n",
       "      <td>13662</td>\n",
       "      <td>13662</td>\n",
       "      <td>13662</td>\n",
       "    </tr>\n",
       "    <tr>\n",
       "      <th>4</th>\n",
       "      <td>OMG! Rotisserie</td>\n",
       "      <td>45701</td>\n",
       "      <td>45701</td>\n",
       "      <td>45701</td>\n",
       "    </tr>\n",
       "  </tbody>\n",
       "</table>\n",
       "</div>"
      ],
      "text/plain": [
       "               name zip_code1 zip_code_str zip_code\n",
       "0        McDonald's     13662        13662    13662\n",
       "1           Wendy's     43160        43160    43160\n",
       "2  Frisch's Big Boy     41056        41056    41056\n",
       "3        McDonald's     13662        13662    13662\n",
       "4   OMG! Rotisserie     45701        45701    45701"
      ]
     },
     "execution_count": 27,
     "metadata": {},
     "output_type": "execute_result"
    }
   ],
   "source": [
    "# we only need the first 5 digit of the zipcode \n",
    "fast_food_df[\"zip_code_str\"] = fast_food_df[\"zip_code1\"].astype(str).str[0:5]\n",
    "fast_food_df[\"zip_code\"] = fast_food_df[\"zip_code_str\"].apply(lambda x: str(x).zfill(5))\n",
    "fast_food_df.head()"
   ]
  },
  {
   "cell_type": "code",
   "execution_count": 28,
   "metadata": {},
   "outputs": [
    {
     "data": {
      "text/html": [
       "<div>\n",
       "<style scoped>\n",
       "    .dataframe tbody tr th:only-of-type {\n",
       "        vertical-align: middle;\n",
       "    }\n",
       "\n",
       "    .dataframe tbody tr th {\n",
       "        vertical-align: top;\n",
       "    }\n",
       "\n",
       "    .dataframe thead th {\n",
       "        text-align: right;\n",
       "    }\n",
       "</style>\n",
       "<table border=\"1\" class=\"dataframe\">\n",
       "  <thead>\n",
       "    <tr style=\"text-align: right;\">\n",
       "      <th></th>\n",
       "      <th>number_of_fastfood</th>\n",
       "      <th>zip_code1</th>\n",
       "      <th>zip_code_str</th>\n",
       "      <th>zip_code</th>\n",
       "    </tr>\n",
       "    <tr>\n",
       "      <th>zip_code</th>\n",
       "      <th></th>\n",
       "      <th></th>\n",
       "      <th></th>\n",
       "      <th></th>\n",
       "    </tr>\n",
       "  </thead>\n",
       "  <tbody>\n",
       "    <tr>\n",
       "      <th>01020</th>\n",
       "      <td>2</td>\n",
       "      <td>2</td>\n",
       "      <td>2</td>\n",
       "      <td>01020</td>\n",
       "    </tr>\n",
       "    <tr>\n",
       "      <th>01027</th>\n",
       "      <td>1</td>\n",
       "      <td>1</td>\n",
       "      <td>1</td>\n",
       "      <td>01027</td>\n",
       "    </tr>\n",
       "    <tr>\n",
       "      <th>01040</th>\n",
       "      <td>1</td>\n",
       "      <td>1</td>\n",
       "      <td>1</td>\n",
       "      <td>01040</td>\n",
       "    </tr>\n",
       "    <tr>\n",
       "      <th>01060</th>\n",
       "      <td>1</td>\n",
       "      <td>1</td>\n",
       "      <td>1</td>\n",
       "      <td>01060</td>\n",
       "    </tr>\n",
       "    <tr>\n",
       "      <th>01073</th>\n",
       "      <td>1</td>\n",
       "      <td>1</td>\n",
       "      <td>1</td>\n",
       "      <td>01073</td>\n",
       "    </tr>\n",
       "  </tbody>\n",
       "</table>\n",
       "</div>"
      ],
      "text/plain": [
       "          number_of_fastfood  zip_code1  zip_code_str zip_code\n",
       "zip_code                                                      \n",
       "01020                      2          2             2    01020\n",
       "01027                      1          1             1    01027\n",
       "01040                      1          1             1    01040\n",
       "01060                      1          1             1    01060\n",
       "01073                      1          1             1    01073"
      ]
     },
     "execution_count": 28,
     "metadata": {},
     "output_type": "execute_result"
    }
   ],
   "source": [
    "# it is the number not the exact brand name of the fastFoodRestaurant is import\n",
    "# there are we count the number of restaurants in each zip_code_1 \n",
    "fast_food_by_zc = fast_food_df.groupby([\"zip_code\"])\n",
    "fast_food_by_zc = fast_food_by_zc.count()\n",
    "\n",
    "# make the dataframe more readable\n",
    "fast_food_by_zc = fast_food_by_zc.rename(columns = {\"name\" : \"number_of_fastfood\"})\n",
    "fast_food_by_zc[\"zip_code\"] = fast_food_by_zc.index\n",
    "fast_food_by_zc.head()"
   ]
  },
  {
   "cell_type": "code",
   "execution_count": 29,
   "metadata": {},
   "outputs": [
    {
     "data": {
      "text/html": [
       "<div>\n",
       "<style scoped>\n",
       "    .dataframe tbody tr th:only-of-type {\n",
       "        vertical-align: middle;\n",
       "    }\n",
       "\n",
       "    .dataframe tbody tr th {\n",
       "        vertical-align: top;\n",
       "    }\n",
       "\n",
       "    .dataframe thead th {\n",
       "        text-align: right;\n",
       "    }\n",
       "</style>\n",
       "<table border=\"1\" class=\"dataframe\">\n",
       "  <thead>\n",
       "    <tr style=\"text-align: right;\">\n",
       "      <th></th>\n",
       "      <th>number_of_fastfood</th>\n",
       "      <th>zip_code</th>\n",
       "    </tr>\n",
       "    <tr>\n",
       "      <th>zip_code</th>\n",
       "      <th></th>\n",
       "      <th></th>\n",
       "    </tr>\n",
       "  </thead>\n",
       "  <tbody>\n",
       "    <tr>\n",
       "      <th>01020</th>\n",
       "      <td>2</td>\n",
       "      <td>01020</td>\n",
       "    </tr>\n",
       "    <tr>\n",
       "      <th>01027</th>\n",
       "      <td>1</td>\n",
       "      <td>01027</td>\n",
       "    </tr>\n",
       "    <tr>\n",
       "      <th>01040</th>\n",
       "      <td>1</td>\n",
       "      <td>01040</td>\n",
       "    </tr>\n",
       "    <tr>\n",
       "      <th>01060</th>\n",
       "      <td>1</td>\n",
       "      <td>01060</td>\n",
       "    </tr>\n",
       "    <tr>\n",
       "      <th>01073</th>\n",
       "      <td>1</td>\n",
       "      <td>01073</td>\n",
       "    </tr>\n",
       "  </tbody>\n",
       "</table>\n",
       "</div>"
      ],
      "text/plain": [
       "          number_of_fastfood zip_code\n",
       "zip_code                             \n",
       "01020                      2    01020\n",
       "01027                      1    01027\n",
       "01040                      1    01040\n",
       "01060                      1    01060\n",
       "01073                      1    01073"
      ]
     },
     "execution_count": 29,
     "metadata": {},
     "output_type": "execute_result"
    }
   ],
   "source": [
    "# drop the orginal 9-digit zipcode\n",
    "fast_food_by_zc = fast_food_by_zc.drop([\"zip_code1\",\"zip_code_str\"], axis=1)\n",
    "fast_food_by_zc.head()"
   ]
  },
  {
   "cell_type": "code",
   "execution_count": 30,
   "metadata": {},
   "outputs": [
    {
     "data": {
      "text/plain": [
       "5216"
      ]
     },
     "execution_count": 30,
     "metadata": {},
     "output_type": "execute_result"
    }
   ],
   "source": [
    "fast_food_by_zc[\"zip_code\"].count()"
   ]
  },
  {
   "cell_type": "code",
   "execution_count": 31,
   "metadata": {},
   "outputs": [
    {
     "data": {
      "text/plain": [
       "64118    1\n",
       "75217    1\n",
       "08204    1\n",
       "99019    1\n",
       "94541    1\n",
       "39553    1\n",
       "24522    1\n",
       "37167    1\n",
       "40505    1\n",
       "17201    1\n",
       "37013    1\n",
       "02032    1\n",
       "04011    1\n",
       "30106    1\n",
       "32805    1\n",
       "80550    1\n",
       "40067    1\n",
       "53527    1\n",
       "90056    1\n",
       "73111    1\n",
       "27560    1\n",
       "28425    1\n",
       "95301    1\n",
       "97209    1\n",
       "37087    1\n",
       "98275    1\n",
       "13421    1\n",
       "87105    1\n",
       "92236    1\n",
       "33403    1\n",
       "        ..\n",
       "76667    1\n",
       "45414    1\n",
       "89014    1\n",
       "93422    1\n",
       "21703    1\n",
       "20733    1\n",
       "98296    1\n",
       "19107    1\n",
       "10007    1\n",
       "50702    1\n",
       "29212    1\n",
       "20194    1\n",
       "85382    1\n",
       "51360    1\n",
       "39581    1\n",
       "15224    1\n",
       "37388    1\n",
       "70058    1\n",
       "33801    1\n",
       "30189    1\n",
       "51250    1\n",
       "30008    1\n",
       "28557    1\n",
       "48059    1\n",
       "60603    1\n",
       "61554    1\n",
       "53226    1\n",
       "31410    1\n",
       "14870    1\n",
       "43064    1\n",
       "Name: zip_code, Length: 5216, dtype: int64"
      ]
     },
     "execution_count": 31,
     "metadata": {},
     "output_type": "execute_result"
    }
   ],
   "source": [
    "fast_food_by_zc[\"zip_code\"].value_counts()"
   ]
  },
  {
   "cell_type": "code",
   "execution_count": 32,
   "metadata": {},
   "outputs": [
    {
     "name": "stderr",
     "output_type": "stream",
     "text": [
      "/Users/yanxu/anaconda3/lib/python3.7/site-packages/ipykernel_launcher.py:1: FutureWarning: 'zip_code' is both an index level and a column label.\n",
      "Defaulting to column, but this will raise an ambiguity error in a future version\n",
      "  \"\"\"Entry point for launching an IPython kernel.\n"
     ]
    },
    {
     "data": {
      "text/plain": [
       "'01020'"
      ]
     },
     "execution_count": 32,
     "metadata": {},
     "output_type": "execute_result"
    }
   ],
   "source": [
    "fast_food_by_zc.sort_values(by = [\"zip_code\"])[\"zip_code\"][0]"
   ]
  },
  {
   "cell_type": "code",
   "execution_count": 33,
   "metadata": {},
   "outputs": [
    {
     "name": "stderr",
     "output_type": "stream",
     "text": [
      "/Users/yanxu/anaconda3/lib/python3.7/site-packages/ipykernel_launcher.py:1: FutureWarning: 'zip_code' is both an index level and a column label.\n",
      "Defaulting to column, but this will raise an ambiguity error in a future version\n",
      "  \"\"\"Entry point for launching an IPython kernel.\n"
     ]
    },
    {
     "data": {
      "text/plain": [
       "'11554'"
      ]
     },
     "execution_count": 33,
     "metadata": {},
     "output_type": "execute_result"
    }
   ],
   "source": [
    "fast_food_by_zc.sort_values(by = [\"zip_code\"])[\"zip_code\"][396]"
   ]
  },
  {
   "cell_type": "code",
   "execution_count": 34,
   "metadata": {},
   "outputs": [],
   "source": [
    "# save data into csv\n",
    "fast_food_by_zc.to_csv(\"cleaned_fastFood3.csv\", sep=',', encoding='utf-8', index=False)"
   ]
  },
  {
   "cell_type": "code",
   "execution_count": null,
   "metadata": {},
   "outputs": [],
   "source": []
  }
 ],
 "metadata": {
  "kernelspec": {
   "display_name": "Python 3",
   "language": "python",
   "name": "python3"
  },
  "language_info": {
   "codemirror_mode": {
    "name": "ipython",
    "version": 3
   },
   "file_extension": ".py",
   "mimetype": "text/x-python",
   "name": "python",
   "nbconvert_exporter": "python",
   "pygments_lexer": "ipython3",
   "version": "3.7.2"
  }
 },
 "nbformat": 4,
 "nbformat_minor": 2
}
