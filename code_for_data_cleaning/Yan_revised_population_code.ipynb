{
 "cells": [
  {
   "cell_type": "code",
   "execution_count": 1,
   "metadata": {},
   "outputs": [],
   "source": [
    "import pandas as pd"
   ]
  },
  {
   "cell_type": "code",
   "execution_count": 2,
   "metadata": {},
   "outputs": [
    {
     "data": {
      "text/html": [
       "<div>\n",
       "<style scoped>\n",
       "    .dataframe tbody tr th:only-of-type {\n",
       "        vertical-align: middle;\n",
       "    }\n",
       "\n",
       "    .dataframe tbody tr th {\n",
       "        vertical-align: top;\n",
       "    }\n",
       "\n",
       "    .dataframe thead th {\n",
       "        text-align: right;\n",
       "    }\n",
       "</style>\n",
       "<table border=\"1\" class=\"dataframe\">\n",
       "  <thead>\n",
       "    <tr style=\"text-align: right;\">\n",
       "      <th></th>\n",
       "      <th>zip_code</th>\n",
       "      <th>y-2016</th>\n",
       "      <th>y-2015</th>\n",
       "      <th>y-2014</th>\n",
       "      <th>y-2013</th>\n",
       "      <th>y-2012</th>\n",
       "      <th>y-2011</th>\n",
       "      <th>y-2010</th>\n",
       "      <th>aggregate</th>\n",
       "    </tr>\n",
       "  </thead>\n",
       "  <tbody>\n",
       "    <tr>\n",
       "      <th>0</th>\n",
       "      <td>00601</td>\n",
       "      <td>17800</td>\n",
       "      <td>17982</td>\n",
       "      <td>18088</td>\n",
       "      <td>18450</td>\n",
       "      <td>18544</td>\n",
       "      <td>18533</td>\n",
       "      <td>18570</td>\n",
       "      <td>127967</td>\n",
       "    </tr>\n",
       "    <tr>\n",
       "      <th>1</th>\n",
       "      <td>00602</td>\n",
       "      <td>39716</td>\n",
       "      <td>40260</td>\n",
       "      <td>40859</td>\n",
       "      <td>41302</td>\n",
       "      <td>41640</td>\n",
       "      <td>41930</td>\n",
       "      <td>41520</td>\n",
       "      <td>287227</td>\n",
       "    </tr>\n",
       "    <tr>\n",
       "      <th>2</th>\n",
       "      <td>00603</td>\n",
       "      <td>51565</td>\n",
       "      <td>52408</td>\n",
       "      <td>53162</td>\n",
       "      <td>53683</td>\n",
       "      <td>54540</td>\n",
       "      <td>54475</td>\n",
       "      <td>54689</td>\n",
       "      <td>374522</td>\n",
       "    </tr>\n",
       "    <tr>\n",
       "      <th>3</th>\n",
       "      <td>00606</td>\n",
       "      <td>6320</td>\n",
       "      <td>6331</td>\n",
       "      <td>6415</td>\n",
       "      <td>6591</td>\n",
       "      <td>6593</td>\n",
       "      <td>6386</td>\n",
       "      <td>6615</td>\n",
       "      <td>45251</td>\n",
       "    </tr>\n",
       "    <tr>\n",
       "      <th>4</th>\n",
       "      <td>00610</td>\n",
       "      <td>27976</td>\n",
       "      <td>28328</td>\n",
       "      <td>28805</td>\n",
       "      <td>28963</td>\n",
       "      <td>29141</td>\n",
       "      <td>29111</td>\n",
       "      <td>29016</td>\n",
       "      <td>201340</td>\n",
       "    </tr>\n",
       "  </tbody>\n",
       "</table>\n",
       "</div>"
      ],
      "text/plain": [
       "  zip_code y-2016 y-2015 y-2014 y-2013 y-2012 y-2011 y-2010 aggregate\n",
       "0    00601  17800  17982  18088  18450  18544  18533  18570    127967\n",
       "1    00602  39716  40260  40859  41302  41640  41930  41520    287227\n",
       "2    00603  51565  52408  53162  53683  54540  54475  54689    374522\n",
       "3    00606   6320   6331   6415   6591   6593   6386   6615     45251\n",
       "4    00610  27976  28328  28805  28963  29141  29111  29016    201340"
      ]
     },
     "execution_count": 2,
     "metadata": {},
     "output_type": "execute_result"
    }
   ],
   "source": [
    "popu_df = pd.read_csv(\"population.csv\",sep=',', dtype=str)\n",
    "popu_df.head()"
   ]
  },
  {
   "cell_type": "code",
   "execution_count": 3,
   "metadata": {},
   "outputs": [
    {
     "data": {
      "text/html": [
       "<div>\n",
       "<style scoped>\n",
       "    .dataframe tbody tr th:only-of-type {\n",
       "        vertical-align: middle;\n",
       "    }\n",
       "\n",
       "    .dataframe tbody tr th {\n",
       "        vertical-align: top;\n",
       "    }\n",
       "\n",
       "    .dataframe thead th {\n",
       "        text-align: right;\n",
       "    }\n",
       "</style>\n",
       "<table border=\"1\" class=\"dataframe\">\n",
       "  <thead>\n",
       "    <tr style=\"text-align: right;\">\n",
       "      <th></th>\n",
       "      <th>zip_code</th>\n",
       "      <th>popultion</th>\n",
       "    </tr>\n",
       "  </thead>\n",
       "  <tbody>\n",
       "    <tr>\n",
       "      <th>0</th>\n",
       "      <td>00601</td>\n",
       "      <td>17800</td>\n",
       "    </tr>\n",
       "    <tr>\n",
       "      <th>1</th>\n",
       "      <td>00602</td>\n",
       "      <td>39716</td>\n",
       "    </tr>\n",
       "    <tr>\n",
       "      <th>2</th>\n",
       "      <td>00603</td>\n",
       "      <td>51565</td>\n",
       "    </tr>\n",
       "    <tr>\n",
       "      <th>3</th>\n",
       "      <td>00606</td>\n",
       "      <td>6320</td>\n",
       "    </tr>\n",
       "    <tr>\n",
       "      <th>4</th>\n",
       "      <td>00610</td>\n",
       "      <td>27976</td>\n",
       "    </tr>\n",
       "  </tbody>\n",
       "</table>\n",
       "</div>"
      ],
      "text/plain": [
       "  zip_code popultion\n",
       "0    00601     17800\n",
       "1    00602     39716\n",
       "2    00603     51565\n",
       "3    00606      6320\n",
       "4    00610     27976"
      ]
     },
     "execution_count": 3,
     "metadata": {},
     "output_type": "execute_result"
    }
   ],
   "source": [
    "# we use the latest data\n",
    "popu_df_2016 = popu_df[[\"zip_code\",\"y-2016\"]]\n",
    "popu_df_2016 = popu_df_2016.rename(columns = {\"y-2016\" : \"popultion\"})\n",
    "popu_df_2016.head()"
   ]
  },
  {
   "cell_type": "code",
   "execution_count": 4,
   "metadata": {},
   "outputs": [],
   "source": [
    "popu_df_2016.to_csv(\"cleaned_population.csv\", sep=',', encoding='utf-8', index=False)"
   ]
  },
  {
   "cell_type": "code",
   "execution_count": null,
   "metadata": {},
   "outputs": [],
   "source": []
  }
 ],
 "metadata": {
  "kernelspec": {
   "display_name": "Python 3",
   "language": "python",
   "name": "python3"
  },
  "language_info": {
   "codemirror_mode": {
    "name": "ipython",
    "version": 3
   },
   "file_extension": ".py",
   "mimetype": "text/x-python",
   "name": "python",
   "nbconvert_exporter": "python",
   "pygments_lexer": "ipython3",
   "version": "3.7.2"
  }
 },
 "nbformat": 4,
 "nbformat_minor": 2
}
