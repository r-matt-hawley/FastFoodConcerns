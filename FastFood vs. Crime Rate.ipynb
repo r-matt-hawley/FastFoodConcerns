{
 "cells": [
  {
   "cell_type": "code",
   "execution_count": 3,
   "metadata": {},
   "outputs": [],
   "source": [
    "import pandas as pd\n",
    "import numpy as np\n",
    "import matplotlib.pyplot as plt\n",
    "import statsmodels.api as sm\n",
    "\n",
    "file_to_load = \"Resources/Datafiniti_Fast_Food_Restaurants.csv\"\n",
    "file_to_load2 = \"Resources/crime_data_w_population_and_crime_rate.csv\"\n",
    "\n",
    "\n",
    "fastfood_data = pd.read_csv(file_to_load)\n",
    "ff_counts = fastfood_data['province'].value_counts()\n",
    "ff_bystate = pd.DataFrame(ff_counts)\n",
    "ff_bystate = ff_bystate.reset_index(inplace=False)\n",
    "ff_bystate = ff_bystate.rename(columns={\"index\":\"state\"})\n",
    "ff_bystate = ff_bystate.rename(columns={\"province\":\"number\"})\n",
    "ff_bystate['number'] = ff_bystate['number'].astype(float)"
   ]
  },
  {
   "cell_type": "code",
   "execution_count": 4,
   "metadata": {},
   "outputs": [],
   "source": [
    "crime_data = pd.read_csv(file_to_load2)\n",
    "crime_data[['county','state']] = crime_data['county_name'].str.split(', ',expand=True)\n",
    "crime_data[\"crime_rate\"] = crime_data['crime_rate_per_100000']/1000\n",
    "crime_data = crime_data[['state','crime_rate']]\n",
    "crime_bystate = crime_data.groupby(['state'])\n",
    "avg_bystate = crime_bystate.mean()\n",
    "avg_bystate[\"crime_rate\"] = round(avg_bystate[\"crime_rate\"],2)\n",
    "avg_bystate = avg_bystate.drop(avg_bystate.index[7])\n",
    "avg_bystate = avg_bystate.reset_index(inplace=False)"
   ]
  },
  {
   "cell_type": "code",
   "execution_count": 5,
   "metadata": {},
   "outputs": [],
   "source": [
    "combined_df = pd.merge(ff_bystate, avg_bystate, on='state', how='inner')"
   ]
  },
  {
   "cell_type": "code",
   "execution_count": 6,
   "metadata": {},
   "outputs": [
    {
     "data": {
      "image/png": "[encoded data removed]",
      "text/plain": [
       "<Figure size 432x288 with 1 Axes>"
      ]
     },
     "metadata": {
      "needs_background": "light"
     },
     "output_type": "display_data"
    }
   ],
   "source": [
    "plt.scatter(combined_df[\"number\"],combined_df[\"crime_rate\"], edgecolor=\"black\", marker=\"o\")\n",
    "\n",
    "plt.title(\"Fast Food Restaurants vs. Crime Rate (by state)\")\n",
    "plt.ylabel(\"Crime Rate\")\n",
    "plt.xlabel(\"Number of Fastfood Restaurants\")\n",
    "plt.grid(True)\n",
    "plt.savefig(\"Fast Food Restaurants vs. Crime Rate (by state).png\")\n",
    "\n",
    "plt.show()"
   ]
  },
  {
   "cell_type": "code",
   "execution_count": 7,
   "metadata": {},
   "outputs": [],
   "source": [
    "file_to_load3 = \"Clean_data/cleaned_fastFood.csv\"\n",
    "file_to_load4 = \"Clean_data/cleaned_crime_rate.csv\"\n",
    "\n",
    "fastfood_data2 = pd.read_csv(file_to_load3)\n",
    "ff_bycounty= fastfood_data2.groupby(['county'])\n",
    "ff_bycounty = ff_bycounty [['number_of_fastfood']]\n",
    "ff_bycounty = ff_bycounty.sum()"
   ]
  },
  {
   "cell_type": "code",
   "execution_count": 10,
   "metadata": {},
   "outputs": [],
   "source": [
    "crime_data2 = pd.read_csv(file_to_load4)\n",
    "crime_data2[\"crime rate\"] = crime_data2['crime rate/100000']/1000\n",
    "crime_bycounty = crime_data2.groupby(['county'])\n",
    "crime_bycounty = crime_bycounty[['crime rate']]\n",
    "crime_bycounty = crime_bycounty.sum()"
   ]
  },
  {
   "cell_type": "code",
   "execution_count": 11,
   "metadata": {},
   "outputs": [
    {
     "data": {
      "text/html": [
       "<div>\n",
       "<style scoped>\n",
       "    .dataframe tbody tr th:only-of-type {\n",
       "        vertical-align: middle;\n",
       "    }\n",
       "\n",
       "    .dataframe tbody tr th {\n",
       "        vertical-align: top;\n",
       "    }\n",
       "\n",
       "    .dataframe thead th {\n",
       "        text-align: right;\n",
       "    }\n",
       "</style>\n",
       "<table border=\"1\" class=\"dataframe\">\n",
       "  <thead>\n",
       "    <tr style=\"text-align: right;\">\n",
       "      <th></th>\n",
       "      <th>number_of_fastfood</th>\n",
       "      <th>crime rate</th>\n",
       "    </tr>\n",
       "    <tr>\n",
       "      <th>county</th>\n",
       "      <th></th>\n",
       "      <th></th>\n",
       "    </tr>\n",
       "  </thead>\n",
       "  <tbody>\n",
       "    <tr>\n",
       "      <th>Accomack County</th>\n",
       "      <td>1</td>\n",
       "      <td>0.380113</td>\n",
       "    </tr>\n",
       "    <tr>\n",
       "      <th>Ada County</th>\n",
       "      <td>18</td>\n",
       "      <td>0.206500</td>\n",
       "    </tr>\n",
       "    <tr>\n",
       "      <th>Adair County</th>\n",
       "      <td>8</td>\n",
       "      <td>1.214956</td>\n",
       "    </tr>\n",
       "    <tr>\n",
       "      <th>Adams County</th>\n",
       "      <td>38</td>\n",
       "      <td>3.529626</td>\n",
       "    </tr>\n",
       "    <tr>\n",
       "      <th>Aiken County</th>\n",
       "      <td>4</td>\n",
       "      <td>0.662703</td>\n",
       "    </tr>\n",
       "  </tbody>\n",
       "</table>\n",
       "</div>"
      ],
      "text/plain": [
       "                 number_of_fastfood  crime rate\n",
       "county                                         \n",
       "Accomack County                   1    0.380113\n",
       "Ada County                       18    0.206500\n",
       "Adair County                      8    1.214956\n",
       "Adams County                     38    3.529626\n",
       "Aiken County                      4    0.662703"
      ]
     },
     "execution_count": 11,
     "metadata": {},
     "output_type": "execute_result"
    }
   ],
   "source": [
    "combined_df2 = pd.merge(ff_bycounty, crime_bycounty, on='county', how='inner')\n",
    "combined_df2.head()"
   ]
  },
  {
   "cell_type": "code",
   "execution_count": 12,
   "metadata": {},
   "outputs": [
    {
     "data": {
      "image/png": "[encoded data removed]",
      "text/plain": [
       "<Figure size 432x288 with 1 Axes>"
      ]
     },
     "metadata": {
      "needs_background": "light"
     },
     "output_type": "display_data"
    }
   ],
   "source": [
    "plt.scatter(combined_df2[\"number_of_fastfood\"], combined_df2[\"crime rate\"], edgecolor=\"black\", marker=\"o\")\n",
    "\n",
    "plt.title(\"Fast Food Restaurants vs. Crime Rate (by county)\")\n",
    "plt.ylabel(\"Crime Rate\")\n",
    "plt.xlabel(\"Number of Fastfood Restaurants\")\n",
    "plt.grid(True)\n",
    "plt.savefig(\"Fast Food Restaurants vs. Crime Rate (by county).png\")\n",
    "\n",
    "plt.show()"
   ]
  },
  {
   "cell_type": "code",
   "execution_count": 64,
   "metadata": {},
   "outputs": [
    {
     "data": {
      "text/plain": [
       "number_of_fastfood    5.938099e-163\n",
       "dtype: float64"
      ]
     },
     "execution_count": 64,
     "metadata": {},
     "output_type": "execute_result"
    }
   ],
   "source": [
    "X = combined_df2[\"number_of_fastfood\"]\n",
    "Y = combined_df2[\"crime rate\"]\n",
    "\n",
    "model = sm.OLS(Y, X).fit()\n",
    "predictions = model.predict(X)\n",
    "\n",
    "model.pvalues"
   ]
  },
  {
   "cell_type": "code",
   "execution_count": 65,
   "metadata": {},
   "outputs": [
    {
     "data": {
      "text/html": [
       "<table class=\"simpletable\">\n",
       "<caption>OLS Regression Results</caption>\n",
       "<tr>\n",
       "  <th>Dep. Variable:</th>       <td>crime rate</td>    <th>  R-squared:         </th> <td>   0.476</td> \n",
       "</tr>\n",
       "<tr>\n",
       "  <th>Model:</th>                   <td>OLS</td>       <th>  Adj. R-squared:    </th> <td>   0.476</td> \n",
       "</tr>\n",
       "<tr>\n",
       "  <th>Method:</th>             <td>Least Squares</td>  <th>  F-statistic:       </th> <td>   1041.</td> \n",
       "</tr>\n",
       "<tr>\n",
       "  <th>Date:</th>             <td>Sun, 20 Jan 2019</td> <th>  Prob (F-statistic):</th> <td>5.94e-163</td>\n",
       "</tr>\n",
       "<tr>\n",
       "  <th>Time:</th>                 <td>16:37:12</td>     <th>  Log-Likelihood:    </th> <td> -1052.4</td> \n",
       "</tr>\n",
       "<tr>\n",
       "  <th>No. Observations:</th>      <td>  1146</td>      <th>  AIC:               </th> <td>   2107.</td> \n",
       "</tr>\n",
       "<tr>\n",
       "  <th>Df Residuals:</th>          <td>  1145</td>      <th>  BIC:               </th> <td>   2112.</td> \n",
       "</tr>\n",
       "<tr>\n",
       "  <th>Df Model:</th>              <td>     1</td>      <th>                     </th>     <td> </td>    \n",
       "</tr>\n",
       "<tr>\n",
       "  <th>Covariance Type:</th>      <td>nonrobust</td>    <th>                     </th>     <td> </td>    \n",
       "</tr>\n",
       "</table>\n",
       "<table class=\"simpletable\">\n",
       "<tr>\n",
       "           <td></td>             <th>coef</th>     <th>std err</th>      <th>t</th>      <th>P>|t|</th>  <th>[0.025</th>    <th>0.975]</th>  \n",
       "</tr>\n",
       "<tr>\n",
       "  <th>number_of_fastfood</th> <td>    0.0331</td> <td>    0.001</td> <td>   32.261</td> <td> 0.000</td> <td>    0.031</td> <td>    0.035</td>\n",
       "</tr>\n",
       "</table>\n",
       "<table class=\"simpletable\">\n",
       "<tr>\n",
       "  <th>Omnibus:</th>       <td>329.078</td> <th>  Durbin-Watson:     </th> <td>   1.719</td> \n",
       "</tr>\n",
       "<tr>\n",
       "  <th>Prob(Omnibus):</th> <td> 0.000</td>  <th>  Jarque-Bera (JB):  </th> <td>27555.680</td>\n",
       "</tr>\n",
       "<tr>\n",
       "  <th>Skew:</th>          <td>-0.237</td>  <th>  Prob(JB):          </th> <td>    0.00</td> \n",
       "</tr>\n",
       "<tr>\n",
       "  <th>Kurtosis:</th>      <td>27.018</td>  <th>  Cond. No.          </th> <td>    1.00</td> \n",
       "</tr>\n",
       "</table><br/><br/>Warnings:<br/>[1] Standard Errors assume that the covariance matrix of the errors is correctly specified."
      ],
      "text/plain": [
       "<class 'statsmodels.iolib.summary.Summary'>\n",
       "\"\"\"\n",
       "                            OLS Regression Results                            \n",
       "==============================================================================\n",
       "Dep. Variable:             crime rate   R-squared:                       0.476\n",
       "Model:                            OLS   Adj. R-squared:                  0.476\n",
       "Method:                 Least Squares   F-statistic:                     1041.\n",
       "Date:                Sun, 20 Jan 2019   Prob (F-statistic):          5.94e-163\n",
       "Time:                        16:37:12   Log-Likelihood:                -1052.4\n",
       "No. Observations:                1146   AIC:                             2107.\n",
       "Df Residuals:                    1145   BIC:                             2112.\n",
       "Df Model:                           1                                         \n",
       "Covariance Type:            nonrobust                                         \n",
       "======================================================================================\n",
       "                         coef    std err          t      P>|t|      [0.025      0.975]\n",
       "--------------------------------------------------------------------------------------\n",
       "number_of_fastfood     0.0331      0.001     32.261      0.000       0.031       0.035\n",
       "==============================================================================\n",
       "Omnibus:                      329.078   Durbin-Watson:                   1.719\n",
       "Prob(Omnibus):                  0.000   Jarque-Bera (JB):            27555.680\n",
       "Skew:                          -0.237   Prob(JB):                         0.00\n",
       "Kurtosis:                      27.018   Cond. No.                         1.00\n",
       "==============================================================================\n",
       "\n",
       "Warnings:\n",
       "[1] Standard Errors assume that the covariance matrix of the errors is correctly specified.\n",
       "\"\"\""
      ]
     },
     "execution_count": 65,
     "metadata": {},
     "output_type": "execute_result"
    }
   ],
   "source": [
    "model.summary()"
   ]
  },
  {
   "cell_type": "code",
   "execution_count": null,
   "metadata": {},
   "outputs": [],
   "source": []
  }
 ],
 "metadata": {
  "kernelspec": {
   "display_name": "Python 3",
   "language": "python",
   "name": "python3"
  },
  "language_info": {
   "codemirror_mode": {
    "name": "ipython",
    "version": 3
   },
   "file_extension": ".py",
   "mimetype": "text/x-python",
   "name": "python",
   "nbconvert_exporter": "python",
   "pygments_lexer": "ipython3",
   "version": "3.7.0"
  }
 },
 "nbformat": 4,
 "nbformat_minor": 2
}
