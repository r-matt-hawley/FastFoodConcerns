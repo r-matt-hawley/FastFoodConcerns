{
 "cells": [
  {
   "cell_type": "code",
   "execution_count": 14,
   "metadata": {},
   "outputs": [
    {
     "data": {
      "text/html": [
       "<div>\n",
       "<style scoped>\n",
       "    .dataframe tbody tr th:only-of-type {\n",
       "        vertical-align: middle;\n",
       "    }\n",
       "\n",
       "    .dataframe tbody tr th {\n",
       "        vertical-align: top;\n",
       "    }\n",
       "\n",
       "    .dataframe thead th {\n",
       "        text-align: right;\n",
       "    }\n",
       "</style>\n",
       "<table border=\"1\" class=\"dataframe\">\n",
       "  <thead>\n",
       "    <tr style=\"text-align: right;\">\n",
       "      <th></th>\n",
       "      <th>zip_code</th>\n",
       "      <th>y-2016</th>\n",
       "      <th>zipcode str</th>\n",
       "    </tr>\n",
       "  </thead>\n",
       "  <tbody>\n",
       "    <tr>\n",
       "      <th>0</th>\n",
       "      <td>601</td>\n",
       "      <td>17800</td>\n",
       "      <td>00601</td>\n",
       "    </tr>\n",
       "    <tr>\n",
       "      <th>1</th>\n",
       "      <td>602</td>\n",
       "      <td>39716</td>\n",
       "      <td>00602</td>\n",
       "    </tr>\n",
       "    <tr>\n",
       "      <th>2</th>\n",
       "      <td>603</td>\n",
       "      <td>51565</td>\n",
       "      <td>00603</td>\n",
       "    </tr>\n",
       "    <tr>\n",
       "      <th>3</th>\n",
       "      <td>606</td>\n",
       "      <td>6320</td>\n",
       "      <td>00606</td>\n",
       "    </tr>\n",
       "    <tr>\n",
       "      <th>4</th>\n",
       "      <td>610</td>\n",
       "      <td>27976</td>\n",
       "      <td>00610</td>\n",
       "    </tr>\n",
       "  </tbody>\n",
       "</table>\n",
       "</div>"
      ],
      "text/plain": [
       "   zip_code  y-2016 zipcode str\n",
       "0       601   17800       00601\n",
       "1       602   39716       00602\n",
       "2       603   51565       00603\n",
       "3       606    6320       00606\n",
       "4       610   27976       00610"
      ]
     },
     "execution_count": 14,
     "metadata": {},
     "output_type": "execute_result"
    }
   ],
   "source": [
    "import pandas as pd\n",
    "from uszipcode import SearchEngine\n",
    "\n",
    "population_file = \"./Clean_data/cleaned_population.csv\"\n",
    "pop_df = pd.read_csv(population_file)\n",
    "\n",
    "# Convert Zip Code from numpy.int64 to str\n",
    "pop_df[\"zipcode str\"] = pop_df['zip_code'].apply(lambda x: str(x).zfill(5))\n",
    "pop_df.head()"
   ]
  },
  {
   "cell_type": "code",
   "execution_count": 18,
   "metadata": {},
   "outputs": [
    {
     "name": "stdout",
     "output_type": "stream",
     "text": [
      "{\n",
      "    \"zipcode\": \"00601\",\n",
      "    \"zipcode_type\": \"Standard\",\n",
      "    \"major_city\": \"Adjuntas\",\n",
      "    \"post_office_city\": null,\n",
      "    \"common_city_list\": [\n",
      "        \"Adjuntas\"\n",
      "    ],\n",
      "    \"county\": \"Adjuntas Municipio\",\n",
      "    \"state\": \"PR\",\n",
      "    \"lat\": null,\n",
      "    \"lng\": null,\n",
      "    \"timezone\": null,\n",
      "    \"radius_in_miles\": null,\n",
      "    \"area_code_list\": [\n",
      "        \"787\",\n",
      "        \"939\"\n",
      "    ],\n",
      "    \"population\": null,\n",
      "    \"population_density\": null,\n",
      "    \"land_area_in_sqmi\": null,\n",
      "    \"water_area_in_sqmi\": null,\n",
      "    \"housing_units\": null,\n",
      "    \"occupied_housing_units\": null,\n",
      "    \"median_home_value\": null,\n",
      "    \"median_household_income\": null,\n",
      "    \"bounds_west\": null,\n",
      "    \"bounds_east\": null,\n",
      "    \"bounds_north\": null,\n",
      "    \"bounds_south\": null\n",
      "}\n"
     ]
    }
   ],
   "source": [
    "# Find county and state by zip code\n",
    "test_code = pop_df[\"zipcode str\"]\n",
    "search = SearchEngine(simple_zipcode=True) # set simple_zipcode=False to use rich info database\n",
    "zipcode = search.by_zipcode(\"00601\")\n",
    "print(zipcode.to_json())"
   ]
  },
  {
   "cell_type": "code",
   "execution_count": null,
   "metadata": {},
   "outputs": [],
   "source": []
  }
 ],
 "metadata": {
  "kernelspec": {
   "display_name": "Python 3",
   "language": "python",
   "name": "python3"
  },
  "language_info": {
   "codemirror_mode": {
    "name": "ipython",
    "version": 3
   },
   "file_extension": ".py",
   "mimetype": "text/x-python",
   "name": "python",
   "nbconvert_exporter": "python",
   "pygments_lexer": "ipython3",
   "version": "3.6.5"
  }
 },
 "nbformat": 4,
 "nbformat_minor": 2
}
